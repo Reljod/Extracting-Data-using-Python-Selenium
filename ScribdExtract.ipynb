{
 "cells": [
  {
   "cell_type": "markdown",
   "metadata": {},
   "source": [
    "# Extract Data from web-page using Python\n",
    "<br> \n",
    "## Using Requests, BeautifulSoup and Selenium\n",
    "\n",
    "### Import packages"
   ]
  },
  {
   "cell_type": "code",
   "execution_count": 1,
   "metadata": {},
   "outputs": [],
   "source": [
    "import requests\n",
    "import os\n",
    "import shutil\n",
    "from bs4 import BeautifulSoup\n",
    "from selenium import webdriver"
   ]
  },
  {
   "cell_type": "markdown",
   "metadata": {},
   "source": [
    "## Open the link use chromedriver"
   ]
  },
  {
   "cell_type": "code",
   "execution_count": 2,
   "metadata": {},
   "outputs": [],
   "source": [
    "url = 'https://www.scribd.com/document/357469481/Tomasi-Summary'\n",
    "driver = webdriver.Chrome(r'C:\\Users\\Reljod\\Desktop\\Study Materials\\PROGRAMMING\\chromedriver.exe') #change the path\n",
    "driver.get(url)"
   ]
  },
  {
   "cell_type": "markdown",
   "metadata": {},
   "source": [
    "## Get the page markup"
   ]
  },
  {
   "cell_type": "code",
   "execution_count": 3,
   "metadata": {},
   "outputs": [],
   "source": [
    "page = driver.execute_script(\"return document.documentElement.outerHTML\")\n",
    "soup = BeautifulSoup(page, 'html.parser')"
   ]
  },
  {
   "cell_type": "markdown",
   "metadata": {},
   "source": [
    "## Find the content using markup tags\n",
    "\n",
    "Putting all the texts in the text list."
   ]
  },
  {
   "cell_type": "code",
   "execution_count": 4,
   "metadata": {},
   "outputs": [],
   "source": [
    "text = []\n",
    "for page in soup.findAll(attrs={'class':'ie_fix'}):\n",
    "    for word in page.findAll('span', attrs={'class':'a'}):\n",
    "        text.append(word.text)"
   ]
  },
  {
   "cell_type": "markdown",
   "metadata": {},
   "source": [
    "## Cleaning the data"
   ]
  },
  {
   "cell_type": "code",
   "execution_count": 5,
   "metadata": {},
   "outputs": [],
   "source": [
    "textdata = ' '.join(text).replace('\\xa0','')"
   ]
  },
  {
   "cell_type": "markdown",
   "metadata": {},
   "source": [
    "## Writing and saving the data in a text file"
   ]
  },
  {
   "cell_type": "code",
   "execution_count": 6,
   "metadata": {},
   "outputs": [],
   "source": [
    "os.chdir('Desktop')\n",
    "with open(\"tomasi.txt\", \"w\") as rb:\n",
    "    rb.write(textdata)"
   ]
  },
  {
   "cell_type": "code",
   "execution_count": 7,
   "metadata": {},
   "outputs": [
    {
     "name": "stdout",
     "output_type": "stream",
     "text": [
      "qELECTRONIC COMMUNICATIONS SYSTEMS  Wayne Tomasi, 5 th edition  Introduction to Electronic Communications  Electricity began in  1837 when  Samuel Finley Breese Morse invented  the first workable telegraph.  In  1894 ,  Marchese Guglielmo Marconi successfully transmitted the first  wireless radio signals through Earth’s atmosphere.  In  1906 ,  Lee DeForest invented the triode vacuum tube.  Commercial radio broadcasting began in  1920 when radio station KDKA  began broadcasting  amplitude-modulated ( AM ) signals out of Pittsburgh,  Pennsylvania.  In  1931 ,  Major Edwin Howard Armstrong patented frequency  modulation (FM).  Commercial broadcasting of monophonic FM began in  1935 .  The  decibel (abbreviated  dB ) is a logarithmic unit that can be used to  measure ratios of virtually anything.  Zero dB-SPL is the threshold of hearing.  The threshold of pain is approximately 120 dB-SPL.  dB represents the ratio of the signal level at one point in a circuit to the  signal level at another point in a circuit.  A power loss is sometimes called  attenuation .  dBm is a unit of measurement used to indicate the ratio of a power level  with respect to a fixed reference level.  When power levels are given in watts and power gains are given as  absolute values, the output power is determined by simply multiplying the  input power times the power gain.  Modulation is simply the process of changing one or more properties of  the analog carrier in proportion with the information signal.  Digital  transmission is a true digital system where digital pulses are  transferred between two or more points in a communications system.  Digital  radio is the transmittal of digitally modulated analog carriers  between two or more points in a communications system.  If the information is analog and the amplitude (V) of the carrier is varied  proportional to the information signal,  amplitude  modulation ( AM ) is  produced. If the frequency (f) is varied proportional to the information  signal,  frequency  modulation ( FM ) is produced, and, if phase is varied  proportional to the information signal,  phase  modulation ( PM ) is  produced.  If the information signal is digital and the amplitude (V) of the carrier is  varied proportional to the information signal, a digitally modulated signal  known as  amplitude  shift  keying ( ASK ) is produced. If the frequency (f)  is varied proportional to the information signal,  frequency  shift  keying  ( FSK ) is produced, and, if the phase is varied proportional to the  information signal,  phase  shift  keying ( PSK ) is produced. If both the  amplitude and the phase are varied proportional to the information signal,  quadrature  amplitude  modulation ( QAM ) results.  ASK, FSK, PSK, and QAM are forms of digital modulation.  The term  channel is often used to refer to a specific band of frequencies  allocated a particular service.  A standard voice-band channel occupies approximately a  3-kHz  bandwidth and is used for transmission of voice-quality signals;  commercial AM broadcast channels occupy approximately a  10-kHz  frequency band, and  30MHz or more of bandwidth is required for  microwave and satellite radio channels.  The process of converting a frequency or band of frequencies to another  location in the total frequency spectrum is called  frequency translation .  Frequency is simply the number of times a periodic motion, such as a  sine wave of voltage or current, occurs in a given period of time. Each  complete alternation of the waveform is called a  cycle .  The basic unit of frequency is  hertz ( Hz ), and one hertz equals one cycle  per second (1 Hz = 1 cps).  The  International  Telecommunications  Union ( ITU ) is an international  agency in control of allocating frequencies and services within the overall  frequency spectrum.  Federal  Communications  Commission ( FCC ) assigns frequencies and  communications services for free-space radio propagation.  Commercial FM broadcast band has been assigned the  88-MHz to 108- MHz band.  Extremely low frequencies . Extremely low frequencies (ELFs) are  signals in the  30-Hz to 300-Hz range and include ac power distribution  signals (60 Hz) and low-frequency telemetry signals.  Voice frequencies . Voice frequencies (VFs) are signals in  the  300-Hz to  3000-Hz range and include frequencies generally associated with human  speech. Standard telephone channels have a 300-Hz to 3000-Hz  bandwidth and are often called voice-frequency or voice-band channels.  Very low frequencies . Very low frequencies (VLFs) are signals in the  3- kHz to 30-kHz range , which include the upper end of the human hearing  range. VLFs are used for some specialized government and military  system, such as submarine communications.  Low  frequencies . Low frequencies (LFs) are signals in the  30-kHz to  300-kHz range and are used primarily for marine and aeronautical  navigation.  Medium frequencies . Medium frequencies (MFs) are signals in the  300- kHz to 3-MHz range and are used primarily for commercial AM radio  broadcasting (535 kHz to 1605 kHz).  High frequencies . High frequencies (HFs) are signals in the  3-MHz to  30-MHz range and are often referred to as short waves. Most two-way  radio communications use this range.  Very high frequencies . Very high frequencies (VHFs) are signals in the  30-MHz to 300-MHz range and are used for mobile radio, marine and  aeronautical communications, commercial FM broadcasting (88 MHz to  108 MHz), and commercial television broadcasting of channels 2 to 13  (54 MHz to 216 MHz).  Ultrahigh frequencies . Ultrahigh frequencies (UHFs) are signals in the  300-MHz to 3-GHz range and are used by commercial television  broadcasting of channels 14 to 83, land mobile communications services,  cellular telephones, certain radar and navigation systems, and microwave  and satellite radio system.  Superhigh frequencies . Superhigh frequencies (SHFs) are signals in  the  3-GHz to 30-GHz range and include the majority of the frequencies  used for microwave and satellite radio communication systems.   Extremely high frequencies . Extremely high frequencies (EHFs) are  signals in the  30-GHz to 300-GHz range and are seldom used for radio  communications except in very sophisticated, expensive, and specialized  applications.  Infrared . Infrared frequencies are signals in the  0.3-THz to 300-THz  range and are not generally referred to as radio waves. Infrared refers to  electromagnetic radiation generally associated with heat.  Visible  light . Visible light includes electromagnetic frequencies that fall  within the visible range of humans  ( 0.3 PHz to 3PHz ) . Light-wave  communications is used with optical fiber systems.  Wavelength is the length that one cycle of an electromagnetic wave  occupies in space (i.e., the distance between similar points in a repetitive  wave).  Wavelength is inversely proportional to the frequency of the wave and  directly proportional to the velocity of propagation (the velocity of  propagation of electromagnetic energy in free space is assumed to be the  speed of light, 3 X 10^8 m/s).  The  emission  classifications are identified by a three-symbol code  containing a combination of letters and numbers. The first symbol is a  letter that designates the type of modulation of the main carrier. The  second symbol is a number that identifies the type of emission, and the  third symbol is another letter that describes the type of information being  transmitted.  The  bandwidth of an information signal is simply the difference  between the highest and lowest frequencies contained in the information,  and the  bandwidth of a communications channel is the difference  between the highest and lowest frequencies that the channel will allow to  pass through it  Information theory is a highly theoretical study of the efficient use of  bandwidth to propagate information through electronic communication  systems. Information theory can be used to determine the information  capacity of a data communications system.  Information capacity is a measure of how much information can be  propagated through a communications system and is a function of  bandwidth and transmission line.  The most basic digital symbol used to represent information is the binary  digit  or  bit .  In  1928 ,  R. Hartley of Bell Telephone Laboratories developed a useful  relationship among bandwidth, transmission time, and information  capacity.  In  1948 , mathematician  Claude E. Shannon (also of Bell Telephone  Laboratories) published a paper in the Bell System Technical Journal  relating the information capacity of a communications channel to  bandwidth and signal-to-noise ratio.  The higher the signal-to-noise ratio, the better the performance and the  higher the information capacity.  Electrical  noise is defined as any undesirable electrical energy that falls  within the passband of the signal.  Correlated  noise exists only when a signal is present.  Uncorrelated  noise , on the other hand, is present all the time whether there is a signal  or not.  Uncorrelated  noise is present regardless of whether there is a signal  present or not.  External  noise is noise that is generated outside the device or circuit.  Atmospheric  noise is naturally occurring electrical disturbances that  originate within Earth’s atmosphere. Atmospheric noise is commonly  called static noise.  The source of most static electricity is naturally occurring electrical  conditions, such as  lightning .  Consequently, at frequencies above 30 MHz or so, atmospheric noise  relatively insignificant.  Extraterrestrial  noise consists of electrical signals that originate from  outside  Earth’s atmosphere and is therefore sometimes called deep - space noise.  Solar  noise  is generated directly from the sun’s heat. There are two  parts to solar noise: a quiet condition, when a relatively constant radiation  intensity exists, and high intensity, sporadic disturbances caused by  sunspot activity and solar flare-ups  Cosmic  noise sources are continuously distributed throughout the  galaxies.  Cosmic  noise is often called  black-body noise and is distributed fairly  evenly throughout the sky.  Man-made noise is simply noise that is produced by mankind.  Man-made noise is impulsive in nature and contains a wide range of  frequencies that are propagated through space in the same manner as  radio waves.  Man-made noise is most intense in the more densely populated  metropolitan and industrial areas and is therefore sometimes called  industrial noise .  Internal noise is electrical interference generated within a device or  circuit.  Shot  noise is caused by the random arrival of carriers (holes and  electrons) at the output element of an electronic device, such as diode,  field-effect transistor, or bipolar transistor.  Shot  noise is randomly varying and is superimposed onto any signal  present.  Shot noise is sometimes called  transistor  noise and is additive with  thermal noise.  Any modification to a stream of carriers as they pass from the input to the  output of a device (such as from the emitter to the collector of a  transistor) produces an irregular, random variation categorized as  transit-time noise.  Thermal  noise is associated with the rapid and random movement of  electrons within a conductor due to thermal agitation.  Because this type of electron movement is totally random and in all  directions, it is sometimes called  random  noise .  Thermal  noise is present in all electronic components and  communications systems.  The ac component produced from thermal  agitation has several names,  including  thermal  noise , because it is temperature dependent;  Brownian  noise , after its discoverer;  Johnson  noise , after the man who  related Brownian particle movement of electron movement; and  white  noise because the random movement is at all frequencies. Hence,  thermal  noise is the random motion of free electrons within a conductor  caused by thermal agitation.  To convert ‘C to Kelvin, simply add 273’; thus T = ‘C + 273’.  Correlated  noise is a form of internal noise that is correlated (mutually  related) to the signal and cannot be present in a circuit unless there is a  signal.  Correlated noise is produced by nonlinear amplification and includes  harmonic and intermodulation distortion, both of which are forms of  nonlinear distortion.  Harmonic  distortion occurs when unwanted harmonics of a signal are  produced through nonlinear amplification (nonlinear mixing).  The original signal is the first harmonic and is called the  fundamental  frequency .  Amplitude  distortion is another name for harmonic distortion.  Total  harmonic  distortion ( TDH ) is the ratio of the quadratic sum of the  rms values of all the higher harmonics to the rms value of the  fundamental.  Intermodulation  distortion is the generation of unwanted sum and  difference frequencies produced when two or more signals mix in a  nonlinear device. The sum and difference frequencies are called  cross  products .  Impulse  noise is characterized by high-amplitude peaks of short duration  in the total noise spectrum.  As the name implies, impulse noise consists of sudden bursts of  irregularly shaped pulses that generally last between a few microseconds  and several milliseconds, depending on their amplitude and origin.  Common sources of impulse noise include transients produced from  electromechanical switches (such as relays and solenoids), electric  motors, appliances, electric lights (especially fluorescent), power lines,  automotive ignition system, poor-quality solder joints, and lightning.  Signal-to-noise power ratio ( S/N ) is the ratio of the signal power level to  the noise power level.  Noise factor ( F )  and  noise figure ( NF ) are figures of merit used to  indicate how much the signal-to-noise ratio deteriorates as a signal  passes through a circuit or series of circuits.  Noise  factor is simply a ratio of input signal-to-noise power ratio to  output signal-to-noise power ratio.  Signal Analysis and Mixing  Signal  analysis is the mathematical analysis of the frequency, bandwidth,  and voltage level of a signal.  Electrical  signals are voltage- or current-time variations that can be  represented by a series of sine or cosine waves.  A description of a signal with respect to time is called a  time-domain  representation .  A  standard  oscilloscope is a time-domain instrument. The display on  the cathode ray tube (CRT) is an amplitude-versus-time representation of  the signal and is commonly called a  signal  waveform .  With an oscilloscope, the vertical deflection is proportional to the  amplitude of the input signals, and horizontal deflection is a function of  time (sweep rate).  A description of a signal with respect to its frequency is called a  frequency-domain representation. A  spectrum analyzer is a frequency- domain instrument.  With a spectrum analyzer, the horizontal axis represents frequency and  the vertical axis amplitude.  Any repetitive waveform that is comprised of more than one harmonically  related sine or cosine wave is a  nonsinusoidal ,  complex wave .  To analyze a complex periodic wave, it is necessary to use a  mathematical series developed in  1826 by the French physicist and  mathematician  Baron Jean Fourier . This series is appropriately called  the  Fourier series .  Fourier  analysis is a mathematical tool that allows us to move back and  forth between the time and frequency domains.  The  Fourier  series is used in signal analysis to represent the sinusoidal  components of nonsinusoidal periodic waveforms.  Any  periodic  waveform is comprised of an average dc component and a  series of harmonically related sine or cosine waves.  A  harmonic is an integral multiple of the fundamental frequency. The  fundamental frequency is the first harmonic and is equal to the frequency  (repetition rate) of the waveform.  The  fundamental frequency is the minimum frequency necessary to  represent a waveform.  Wave  symmetry describes the symmetry of a waveform in the time  domain, that is, its relative position with respect to the horizontal (time)  and vertical (amplitude) axes.  If a periodic voltage waveform is symmetric about the vertical axis, it is  said to have axes, or mirror, symmetry and is called an  even  function .  If a periodic voltage waveform is symmetric about a line between the  vertical axis and the negative horizontal axis and passing through the  coordinate origin, it is said to have point, or skew, symmetry and is called  an  odd  function .  If a periodic voltage waveform is such that the waveform for the first half  cycle repeats itself except with the opposite sign for the second half cycle,  it is said to have  half-wave symmetry .  Frequency  spectrum of a waveform consists of all the frequencies  contained in the waveform and their respective amplitudes plotted in the  frequency domain.  The  bandwidth of a frequency spectrum is the range of frequencies  contained in the spectrum. The bandwidth is calculated by subtracting the  lowest frequency from the highest.  The  bandwidth of an information signal is simply the difference  between the highest and lowest frequencies contained in the information,  and the bandwidth of a communications channel is the difference  between the highest and lowest frequencies that the channel will allow to  pass through it.  When analyzing electronic communications circuits, it is often necessary  to use a  rectangular  pulse .  The  duty  cycle ( DC ) for the waveform is the ratio of the active time of the  pulse to the period of the waveform.  Electrical  power is the rate at which energy is dissipated, delivered, or  used and is a function of the square of the voltage or current.  With the  discrete  Fourier  transform , a time-domain signal is sampled at  discrete times. The samples are fed into a computer where an algorithm  computes the transform.  In  1965 a new algorithm called the  fast  Fourier  transform ( FFT ) was  developed by  Cooley and  Tukey . With the FFT the computing time is  proportional to n log 2n rather than n^2.  We can consider a communications channel to be equivalent to an ideal  linear-phase filter with a finite bandwidth.  In a communications system,  bandlimiting reduces the information  capacity of the system, and, if excessive bandlimiting is imposed, a  portion of the information signal can be removed from the composite  waveform.  Mixing is the process of combining two or more signals and is an  essential process in electronic communications.  Linear  summing occurs when two or more signals combine in a linear  device, such as a passive network or a small-signal amplifier.  In radio communications, mixing almost always implies a nonlinear  process.  Nonlinear  mixing occurs when two or more signals are combined in a  nonlinear device such as a diode or large-signal amplifier. With nonlinear  mixing, the input signals combine in a nonlinear fashion and produce  additional frequency components.  Integer multiples of a base frequency are called  harmonics .  Nonlinear amplification of a single frequency results in the generation of  multiples or harmonics of the frequency. If the harmonics are undesired, it  is called  harmonic  distortion . If the harmonics are desired, it is called  frequency  multiplication .  A  JFET is a special-case nonlinear device that has characteristics that  are approximately those of a square-law device.  The  cross  products are sum and the difference frequencies.  If the cross products are undesired, it is called  intermodulation  distortion . If the cross products are desired, it is called  modulation .  Intermodulation  distortion is the generation of any unwanted cross- product frequency when two or more frequencies are mixed in a  nonlinear device. \n"
     ]
    }
   ],
   "source": [
    "print(textdata)"
   ]
  },
  {
   "cell_type": "code",
   "execution_count": null,
   "metadata": {},
   "outputs": [],
   "source": []
  }
 ],
 "metadata": {
  "kernelspec": {
   "display_name": "Python 3",
   "language": "python",
   "name": "python3"
  },
  "language_info": {
   "codemirror_mode": {
    "name": "ipython",
    "version": 3
   },
   "file_extension": ".py",
   "mimetype": "text/x-python",
   "name": "python",
   "nbconvert_exporter": "python",
   "pygments_lexer": "ipython3",
   "version": "3.6.7"
  }
 },
 "nbformat": 4,
 "nbformat_minor": 2
}
